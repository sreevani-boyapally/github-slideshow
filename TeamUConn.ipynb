{
  "nbformat": 4,
  "nbformat_minor": 0,
  "metadata": {
    "colab": {
      "name": "TeamUConn.ipynb",
      "provenance": [],
      "collapsed_sections": [],
      "include_colab_link": true
    },
    "kernelspec": {
      "display_name": "Python 3",
      "name": "python3"
    },
    "language_info": {
      "name": "python"
    }
  },
  "cells": [
    {
      "cell_type": "markdown",
      "metadata": {
        "id": "view-in-github",
        "colab_type": "text"
      },
      "source": [
        "<a href=\"https://colab.research.google.com/github/sreevani-boyapally/github-slideshow/blob/main/TeamUConn.ipynb\" target=\"_parent\"><img src=\"https://colab.research.google.com/assets/colab-badge.svg\" alt=\"Open In Colab\"/></a>"
      ]
    },
    {
      "cell_type": "markdown",
      "metadata": {
        "id": "n2iLxC9FygAS"
      },
      "source": [
        "# Mounting Google drive"
      ]
    },
    {
      "cell_type": "code",
      "metadata": {
        "colab": {
          "base_uri": "https://localhost:8080/"
        },
        "id": "dbhJVFPoGiM_",
        "outputId": "56d8bb7d-1588-4a6c-fc2c-1945ae75fddf"
      },
      "source": [
        "from google.colab import drive, files\n",
        "drive.mount('/content/drive')"
      ],
      "execution_count": 1,
      "outputs": [
        {
          "output_type": "stream",
          "name": "stdout",
          "text": [
            "Mounted at /content/drive\n"
          ]
        }
      ]
    },
    {
      "cell_type": "code",
      "metadata": {
        "colab": {
          "base_uri": "https://localhost:8080/",
          "height": 35
        },
        "id": "v2nhHyrPHkL1",
        "outputId": "50955503-a96f-407e-85a1-e27874fc7d1e"
      },
      "source": [
        "import keras\n",
        "import pandas as pd\n",
        "\n",
        "keras.__version__"
      ],
      "execution_count": 2,
      "outputs": [
        {
          "output_type": "execute_result",
          "data": {
            "application/vnd.google.colaboratory.intrinsic+json": {
              "type": "string"
            },
            "text/plain": [
              "'2.7.0'"
            ]
          },
          "metadata": {},
          "execution_count": 2
        }
      ]
    },
    {
      "cell_type": "markdown",
      "metadata": {
        "id": "882QvGgqynxb"
      },
      "source": [
        "# Loading the data"
      ]
    },
    {
      "cell_type": "code",
      "metadata": {
        "colab": {
          "base_uri": "https://localhost:8080/"
        },
        "id": "KemL1nicIjS4",
        "outputId": "1586e1be-3875-44be-8d30-7b989b6caa2f"
      },
      "source": [
        "df = pd.read_csv(\"/content/drive/Shareddrives/SreevaniAshima/train.csv\")\n",
        "df.info()"
      ],
      "execution_count": 3,
      "outputs": [
        {
          "output_type": "stream",
          "name": "stdout",
          "text": [
            "<class 'pandas.core.frame.DataFrame'>\n",
            "RangeIndex: 1750 entries, 0 to 1749\n",
            "Data columns (total 2 columns):\n",
            " #   Column   Non-Null Count  Dtype \n",
            "---  ------   --------------  ----- \n",
            " 0   imageID  1750 non-null   object\n",
            " 1   disease  1750 non-null   object\n",
            "dtypes: object(2)\n",
            "memory usage: 27.5+ KB\n"
          ]
        }
      ]
    },
    {
      "cell_type": "markdown",
      "metadata": {
        "id": "niLPaLsTywOq"
      },
      "source": [
        "# Data Splitting"
      ]
    },
    {
      "cell_type": "code",
      "metadata": {
        "id": "hE7N3pHwFKhX"
      },
      "source": [
        " from sklearn.model_selection import train_test_split\n",
        " images_train, images_val = train_test_split(df, \n",
        "                                                     test_size=0.2,\n",
        "                                                     shuffle=True,\n",
        "                                                     random_state = 1)"
      ],
      "execution_count": null,
      "outputs": []
    },
    {
      "cell_type": "code",
      "metadata": {
        "id": "zj3wkrLOFvAE"
      },
      "source": [
        " print(images_train.info())\n",
        " print(images_val.info())"
      ],
      "execution_count": null,
      "outputs": []
    },
    {
      "cell_type": "code",
      "metadata": {
        "id": "OXszSUsWI6_R"
      },
      "source": [
        " train_cardiomegaly = images_train[images_train['disease'] == 'Cardiomegaly']\n",
        " train_not_card = images_train[images_train['disease'] != 'Cardiomegaly']"
      ],
      "execution_count": null,
      "outputs": []
    },
    {
      "cell_type": "code",
      "metadata": {
        "id": "vDO38vSVGK5G"
      },
      "source": [
        " val_cardiomegaly = images_val[images_val['disease'] == 'Cardiomegaly']\n",
        " val_not_card = images_val[images_val['disease'] != 'Cardiomegaly']"
      ],
      "execution_count": null,
      "outputs": []
    },
    {
      "cell_type": "code",
      "metadata": {
        "id": "7nsyH20XJXAq"
      },
      "source": [
        " print(train_cardiomegaly.info())\n",
        " print(val_cardiomegaly.info())"
      ],
      "execution_count": null,
      "outputs": []
    },
    {
      "cell_type": "code",
      "metadata": {
        "id": "XZzlvuCfLbCI"
      },
      "source": [
        " train_cardiomegaly_image = train_cardiomegaly['imageID']\n",
        " val_cardiomegaly_image = val_cardiomegaly['imageID']\n",
        " train_notcard_image = train_not_card['imageID']\n",
        " val_notcard_image = val_not_card['imageID']\n"
      ],
      "execution_count": null,
      "outputs": []
    },
    {
      "cell_type": "code",
      "metadata": {
        "id": "Z8E3eQgJMETb"
      },
      "source": [
        "image_dir = (\"/content/drive/Shareddrives/SreevaniAshima/train/\")\n",
        "base_dir = (\"/content/drive/Shareddrives/SreevaniAshima/\")"
      ],
      "execution_count": 4,
      "outputs": []
    },
    {
      "cell_type": "markdown",
      "metadata": {
        "id": "zAmPqPWEy0z9"
      },
      "source": [
        "# Copying images into train, validation folders"
      ]
    },
    {
      "cell_type": "code",
      "metadata": {
        "id": "tHbvZtwvMT7I"
      },
      "source": [
        " import shutil\n",
        " import tensorflow as tf\n",
        "\n",
        "\n",
        " tf.io.gfile.mkdir(image_dir + \"cardiomegaly\")\n",
        " tf.io.gfile.mkdir(image_dir + \"no_findings\")\n",
        "\n",
        " tf.io.gfile.mkdir(base_dir + 'validation' + '/' + \"cardiomegaly\")\n",
        " tf.io.gfile.mkdir(base_dir + 'validation' + '/' + \"no_findings\")\n",
        "\n",
        " train_filenames_card = [image_dir + fname for fname in train_cardiomegaly_image]\n",
        " train_filenames_notcard = [image_dir + fname for fname in train_notcard_image]\n",
        " val_filenames_card = [image_dir + fname for fname in val_cardiomegaly_image]\n",
        " val_filenames_notcard = [image_dir + fname for fname in val_notcard_image]\n",
        "\n",
        " for fname in train_filenames_card:\n",
        "   shutil.copy(fname, image_dir + 'cardiomegaly')\n",
        "    \n",
        " for fname in train_filenames_notcard:\n",
        "   shutil.copy(fname, image_dir + 'no_findings')\n",
        "\n",
        " for fname in val_filenames_card:\n",
        "   shutil.copy(fname, base_dir + 'validation' + '/' + 'cardiomegaly')\n",
        "    \n",
        " for fname in val_filenames_notcard:\n",
        "   shutil.copy(fname, base_dir + 'validation' + '/' + 'no_findings')\n",
        "\n",
        "  "
      ],
      "execution_count": null,
      "outputs": []
    },
    {
      "cell_type": "markdown",
      "metadata": {
        "id": "Dkj9C0nsy6fb"
      },
      "source": [
        "# Importing packages"
      ]
    },
    {
      "cell_type": "code",
      "metadata": {
        "id": "96EYBsk4Pmes"
      },
      "source": [
        "# import general necessary packages\n",
        "import pandas as pd\n",
        "import numpy as np\n",
        "import os, cv2 \n",
        "\n",
        "# import the necessary packages -- cnn\n",
        "from keras import layers\n",
        "from keras import models\n",
        "from keras.layers.convolutional import Conv2D\n",
        "from keras.layers.convolutional import MaxPooling2D\n",
        "from keras.preprocessing.image import ImageDataGenerator\n",
        "from keras.layers.core import Dropout\n",
        "from keras.layers.core import Dense\n",
        "from keras.layers import Flatten\n",
        "from keras.layers import Input\n",
        "from tensorflow.keras.optimizers import Adam, RMSprop\n",
        "from keras.callbacks import EarlyStopping\n",
        "from tensorflow.keras import optimizers\n",
        "\n",
        "import random as rn"
      ],
      "execution_count": 5,
      "outputs": []
    },
    {
      "cell_type": "markdown",
      "metadata": {
        "id": "jdA-Aivty_AP"
      },
      "source": [
        "# Model1 - CNN Baseline Model"
      ]
    },
    {
      "cell_type": "code",
      "metadata": {
        "id": "_deqaZKjQ58V"
      },
      "source": [
        "\n",
        "model = models.Sequential()\n",
        "model.add(layers.Conv2D(32, (3, 3), activation='relu',\n",
        "                        input_shape=(150, 150, 1))) # this needs to match with our data prep - upcoming!\n",
        "model.add(layers.MaxPooling2D((2, 2)))\n",
        "model.add(layers.Conv2D(64, (3, 3), activation='relu'))\n",
        "model.add(layers.Conv2D(64, (3, 3), activation='relu'))\n",
        "model.add(layers.MaxPooling2D((2, 2)))\n",
        "model.add(layers.Conv2D(128, (3, 3), activation='relu'))\n",
        "model.add(layers.MaxPooling2D((2, 2)))\n",
        "model.add(layers.Conv2D(128, (3, 3), activation='relu'))\n",
        "model.add(layers.MaxPooling2D((2, 2)))\n",
        "model.add(layers.Flatten())\n",
        "model.add(layers.Dense(512, activation='relu'))\n",
        "model.add(layers.Dense(128, activation='relu'))\n",
        "model.add(layers.Dense(1, activation='sigmoid'))"
      ],
      "execution_count": null,
      "outputs": []
    },
    {
      "cell_type": "code",
      "metadata": {
        "colab": {
          "base_uri": "https://localhost:8080/"
        },
        "id": "yRn_JcVYUwIQ",
        "outputId": "8a4fcb1c-0dd9-450a-c2e9-12fbbc55a14c"
      },
      "source": [
        "model.summary()"
      ],
      "execution_count": null,
      "outputs": [
        {
          "output_type": "stream",
          "name": "stdout",
          "text": [
            "Model: \"sequential\"\n",
            "_________________________________________________________________\n",
            " Layer (type)                Output Shape              Param #   \n",
            "=================================================================\n",
            " conv2d (Conv2D)             (None, 148, 148, 32)      320       \n",
            "                                                                 \n",
            " max_pooling2d (MaxPooling2D  (None, 74, 74, 32)       0         \n",
            " )                                                               \n",
            "                                                                 \n",
            " conv2d_1 (Conv2D)           (None, 72, 72, 64)        18496     \n",
            "                                                                 \n",
            " conv2d_2 (Conv2D)           (None, 70, 70, 64)        36928     \n",
            "                                                                 \n",
            " max_pooling2d_1 (MaxPooling  (None, 35, 35, 64)       0         \n",
            " 2D)                                                             \n",
            "                                                                 \n",
            " conv2d_3 (Conv2D)           (None, 33, 33, 128)       73856     \n",
            "                                                                 \n",
            " max_pooling2d_2 (MaxPooling  (None, 16, 16, 128)      0         \n",
            " 2D)                                                             \n",
            "                                                                 \n",
            " conv2d_4 (Conv2D)           (None, 14, 14, 128)       147584    \n",
            "                                                                 \n",
            " max_pooling2d_3 (MaxPooling  (None, 7, 7, 128)        0         \n",
            " 2D)                                                             \n",
            "                                                                 \n",
            " flatten (Flatten)           (None, 6272)              0         \n",
            "                                                                 \n",
            " dense (Dense)               (None, 512)               3211776   \n",
            "                                                                 \n",
            " dense_1 (Dense)             (None, 128)               65664     \n",
            "                                                                 \n",
            " dense_2 (Dense)             (None, 1)                 129       \n",
            "                                                                 \n",
            "=================================================================\n",
            "Total params: 3,554,753\n",
            "Trainable params: 3,554,753\n",
            "Non-trainable params: 0\n",
            "_________________________________________________________________\n"
          ]
        }
      ]
    },
    {
      "cell_type": "code",
      "metadata": {
        "id": "OgGOhEA8VBNv"
      },
      "source": [
        "model.compile(loss='binary_crossentropy',\n",
        "              optimizer='Adam',\n",
        "              metrics=['acc'])"
      ],
      "execution_count": null,
      "outputs": []
    },
    {
      "cell_type": "code",
      "metadata": {
        "id": "S8e21iTuVkp6"
      },
      "source": [
        "validation_dir = (\"/content/drive/Shareddrives/SreevaniAshima/validation\")"
      ],
      "execution_count": 6,
      "outputs": []
    },
    {
      "cell_type": "code",
      "metadata": {
        "colab": {
          "base_uri": "https://localhost:8080/"
        },
        "id": "Ipj311P0VZ34",
        "outputId": "eff9095b-2573-4244-e354-242d71ebed41"
      },
      "source": [
        "# Using ImageDataGenerator to read images from directories\n",
        "# All images will be rescaled by 1./255\n",
        "train_datagen = ImageDataGenerator(rescale=1./255)\n",
        "val_datagen = ImageDataGenerator(rescale=1./255)\n",
        "\n",
        "train_generator = train_datagen.flow_from_directory(\n",
        "        # This is the target directory\n",
        "        image_dir,\n",
        "        # All images will be resized to 150x150\n",
        "        target_size=(150, 150),\n",
        "        batch_size=20,\n",
        "        color_mode='grayscale',\n",
        "        # Since we use binary_crossentropy loss, we need binary labels\n",
        "        class_mode='binary')\n",
        "\n",
        "validation_generator = val_datagen.flow_from_directory(\n",
        "        validation_dir,\n",
        "        target_size=(150, 150),\n",
        "        batch_size=20,\n",
        "        color_mode='grayscale',\n",
        "        class_mode='binary')\n"
      ],
      "execution_count": null,
      "outputs": [
        {
          "output_type": "stream",
          "name": "stdout",
          "text": [
            "Found 1400 images belonging to 2 classes.\n",
            "Found 350 images belonging to 2 classes.\n"
          ]
        }
      ]
    },
    {
      "cell_type": "code",
      "metadata": {
        "colab": {
          "base_uri": "https://localhost:8080/"
        },
        "id": "6TkDg0JCWOKG",
        "outputId": "e665f11a-f240-486e-bd84-2b49a3b20d07"
      },
      "source": [
        "for data_batch, labels_batch in train_generator:\n",
        "    print('data batch shape:', data_batch.shape)\n",
        "    print('labels batch shape:', labels_batch.shape)\n",
        "    break"
      ],
      "execution_count": null,
      "outputs": [
        {
          "output_type": "stream",
          "name": "stdout",
          "text": [
            "data batch shape: (20, 150, 150, 1)\n",
            "labels batch shape: (20,)\n"
          ]
        }
      ]
    },
    {
      "cell_type": "code",
      "metadata": {
        "colab": {
          "base_uri": "https://localhost:8080/"
        },
        "id": "QsB5DVKPWyq2",
        "outputId": "ccdd8b32-8fd7-4400-bc13-c74e752368a4"
      },
      "source": [
        "# Fitting the model using a batch generator\n",
        "import time\n",
        "import tensorflow as tf\n",
        "start = time.time()\n",
        "\n",
        "tf.random.set_seed(1)\n",
        "\n",
        "# early stopping callback\n",
        "es = EarlyStopping(monitor='val_loss',\n",
        "                   mode='min',\n",
        "                   patience=10,\n",
        "                   restore_best_weights = True)\n",
        "\n",
        "history = model.fit(\n",
        "      train_generator,\n",
        "      steps_per_epoch=15,\n",
        "      callbacks=[es],\n",
        "      epochs=150,\n",
        "      validation_data=validation_generator,\n",
        "      validation_steps=15)  \n",
        "                            # Total number of steps (batches of samples) to validate before stopping.\n",
        "\n",
        "end = time.time()\n",
        "print(end - start)"
      ],
      "execution_count": null,
      "outputs": [
        {
          "output_type": "stream",
          "name": "stdout",
          "text": [
            "Epoch 1/150\n",
            "15/15 [==============================] - 383s 26s/step - loss: 0.7312 - acc: 0.5100 - val_loss: 0.6925 - val_acc: 0.5200\n",
            "Epoch 2/150\n",
            "15/15 [==============================] - 188s 13s/step - loss: 0.6920 - acc: 0.5333 - val_loss: 0.6938 - val_acc: 0.4967\n",
            "Epoch 3/150\n",
            "15/15 [==============================] - 117s 8s/step - loss: 0.6930 - acc: 0.5200 - val_loss: 0.6937 - val_acc: 0.5000\n",
            "Epoch 4/150\n",
            "15/15 [==============================] - 96s 6s/step - loss: 0.6948 - acc: 0.4800 - val_loss: 0.6927 - val_acc: 0.5033\n",
            "Epoch 5/150\n",
            "15/15 [==============================] - 70s 5s/step - loss: 0.6949 - acc: 0.5567 - val_loss: 0.6917 - val_acc: 0.5200\n",
            "Epoch 6/150\n",
            "15/15 [==============================] - 59s 4s/step - loss: 0.6942 - acc: 0.4633 - val_loss: 0.6915 - val_acc: 0.5200\n",
            "Epoch 7/150\n",
            "15/15 [==============================] - 57s 4s/step - loss: 0.7037 - acc: 0.5800 - val_loss: 0.6839 - val_acc: 0.5100\n",
            "Epoch 8/150\n",
            "15/15 [==============================] - 43s 3s/step - loss: 0.6953 - acc: 0.5267 - val_loss: 0.6914 - val_acc: 0.4967\n",
            "Epoch 9/150\n",
            "15/15 [==============================] - 38s 3s/step - loss: 0.6912 - acc: 0.5167 - val_loss: 0.6876 - val_acc: 0.5100\n",
            "Epoch 10/150\n",
            "15/15 [==============================] - 28s 2s/step - loss: 0.6891 - acc: 0.5333 - val_loss: 0.6783 - val_acc: 0.6267\n",
            "Epoch 11/150\n",
            "15/15 [==============================] - 31s 2s/step - loss: 0.7000 - acc: 0.5467 - val_loss: 0.6817 - val_acc: 0.6333\n",
            "Epoch 12/150\n",
            "15/15 [==============================] - 27s 2s/step - loss: 0.6781 - acc: 0.6000 - val_loss: 0.6494 - val_acc: 0.6533\n",
            "Epoch 13/150\n",
            "15/15 [==============================] - 24s 2s/step - loss: 0.6696 - acc: 0.6233 - val_loss: 0.6495 - val_acc: 0.6500\n",
            "Epoch 14/150\n",
            "15/15 [==============================] - 22s 1s/step - loss: 0.6652 - acc: 0.6267 - val_loss: 0.6451 - val_acc: 0.6600\n",
            "Epoch 15/150\n",
            "15/15 [==============================] - 25s 2s/step - loss: 0.6606 - acc: 0.6067 - val_loss: 0.6759 - val_acc: 0.5333\n",
            "Epoch 16/150\n",
            "15/15 [==============================] - 22s 1s/step - loss: 0.6490 - acc: 0.6067 - val_loss: 0.6320 - val_acc: 0.6400\n",
            "Epoch 17/150\n",
            "15/15 [==============================] - 25s 2s/step - loss: 0.5985 - acc: 0.6967 - val_loss: 0.6421 - val_acc: 0.6500\n",
            "Epoch 18/150\n",
            "15/15 [==============================] - 22s 1s/step - loss: 0.6236 - acc: 0.6533 - val_loss: 0.5953 - val_acc: 0.6867\n",
            "Epoch 19/150\n",
            "15/15 [==============================] - 23s 2s/step - loss: 0.5745 - acc: 0.6900 - val_loss: 0.6416 - val_acc: 0.6500\n",
            "Epoch 20/150\n",
            "15/15 [==============================] - 22s 2s/step - loss: 0.6609 - acc: 0.6100 - val_loss: 0.6343 - val_acc: 0.6767\n",
            "Epoch 21/150\n",
            "15/15 [==============================] - 22s 1s/step - loss: 0.6478 - acc: 0.6500 - val_loss: 0.6060 - val_acc: 0.6800\n",
            "Epoch 22/150\n",
            "15/15 [==============================] - 22s 1s/step - loss: 0.6089 - acc: 0.6900 - val_loss: 0.5973 - val_acc: 0.6667\n",
            "Epoch 23/150\n",
            "15/15 [==============================] - 22s 1s/step - loss: 0.6319 - acc: 0.6800 - val_loss: 0.6445 - val_acc: 0.6400\n",
            "Epoch 24/150\n",
            "15/15 [==============================] - 22s 1s/step - loss: 0.5862 - acc: 0.7133 - val_loss: 0.6224 - val_acc: 0.6567\n",
            "Epoch 25/150\n",
            "15/15 [==============================] - 22s 1s/step - loss: 0.6659 - acc: 0.6100 - val_loss: 0.6227 - val_acc: 0.7033\n",
            "Epoch 26/150\n",
            "15/15 [==============================] - 22s 1s/step - loss: 0.6065 - acc: 0.6800 - val_loss: 0.5808 - val_acc: 0.6900\n",
            "Epoch 27/150\n",
            "15/15 [==============================] - 22s 1s/step - loss: 0.6035 - acc: 0.6500 - val_loss: 0.5838 - val_acc: 0.6800\n",
            "Epoch 28/150\n",
            "15/15 [==============================] - 22s 1s/step - loss: 0.5254 - acc: 0.7367 - val_loss: 0.6040 - val_acc: 0.6900\n",
            "Epoch 29/150\n",
            "15/15 [==============================] - 22s 1s/step - loss: 0.5809 - acc: 0.7267 - val_loss: 0.5721 - val_acc: 0.7200\n",
            "Epoch 30/150\n",
            "15/15 [==============================] - 22s 1s/step - loss: 0.5960 - acc: 0.7000 - val_loss: 0.6017 - val_acc: 0.6700\n",
            "Epoch 31/150\n",
            "15/15 [==============================] - 22s 2s/step - loss: 0.5961 - acc: 0.6833 - val_loss: 0.5952 - val_acc: 0.6700\n",
            "Epoch 32/150\n",
            "15/15 [==============================] - 22s 1s/step - loss: 0.5655 - acc: 0.6700 - val_loss: 0.5452 - val_acc: 0.7100\n",
            "Epoch 33/150\n",
            "15/15 [==============================] - 22s 1s/step - loss: 0.5022 - acc: 0.7600 - val_loss: 0.5503 - val_acc: 0.7200\n",
            "Epoch 34/150\n",
            "15/15 [==============================] - 22s 1s/step - loss: 0.5663 - acc: 0.7167 - val_loss: 0.5285 - val_acc: 0.7333\n",
            "Epoch 35/150\n",
            "15/15 [==============================] - 22s 1s/step - loss: 0.5312 - acc: 0.7233 - val_loss: 0.5409 - val_acc: 0.7367\n",
            "Epoch 36/150\n",
            "15/15 [==============================] - 22s 1s/step - loss: 0.5175 - acc: 0.7500 - val_loss: 0.5451 - val_acc: 0.7200\n",
            "Epoch 37/150\n",
            "15/15 [==============================] - 22s 1s/step - loss: 0.4816 - acc: 0.7800 - val_loss: 0.5771 - val_acc: 0.7367\n",
            "Epoch 38/150\n",
            "15/15 [==============================] - 24s 2s/step - loss: 0.5538 - acc: 0.7433 - val_loss: 0.5383 - val_acc: 0.7567\n",
            "Epoch 39/150\n",
            "15/15 [==============================] - 22s 1s/step - loss: 0.4875 - acc: 0.7633 - val_loss: 0.5392 - val_acc: 0.7233\n",
            "Epoch 40/150\n",
            "15/15 [==============================] - 22s 1s/step - loss: 0.5282 - acc: 0.7733 - val_loss: 0.6213 - val_acc: 0.6500\n",
            "Epoch 41/150\n",
            "15/15 [==============================] - 22s 1s/step - loss: 0.4929 - acc: 0.7633 - val_loss: 0.5645 - val_acc: 0.6800\n",
            "Epoch 42/150\n",
            "15/15 [==============================] - 22s 1s/step - loss: 0.4727 - acc: 0.7800 - val_loss: 0.5972 - val_acc: 0.7067\n",
            "Epoch 43/150\n",
            "15/15 [==============================] - 22s 1s/step - loss: 0.5086 - acc: 0.7733 - val_loss: 0.5272 - val_acc: 0.7300\n",
            "Epoch 44/150\n",
            "15/15 [==============================] - 22s 1s/step - loss: 0.4998 - acc: 0.7533 - val_loss: 0.5144 - val_acc: 0.7433\n",
            "Epoch 45/150\n",
            "15/15 [==============================] - 22s 1s/step - loss: 0.5076 - acc: 0.7567 - val_loss: 0.5440 - val_acc: 0.7267\n",
            "Epoch 46/150\n",
            "15/15 [==============================] - 22s 1s/step - loss: 0.4791 - acc: 0.7567 - val_loss: 0.5480 - val_acc: 0.7000\n",
            "Epoch 47/150\n",
            "15/15 [==============================] - 22s 1s/step - loss: 0.4954 - acc: 0.7500 - val_loss: 0.5634 - val_acc: 0.7167\n",
            "Epoch 48/150\n",
            "15/15 [==============================] - 22s 1s/step - loss: 0.4946 - acc: 0.7533 - val_loss: 0.5729 - val_acc: 0.7167\n",
            "Epoch 49/150\n",
            "15/15 [==============================] - 22s 1s/step - loss: 0.4664 - acc: 0.7767 - val_loss: 0.5246 - val_acc: 0.7367\n",
            "Epoch 50/150\n",
            "15/15 [==============================] - 22s 1s/step - loss: 0.5357 - acc: 0.7500 - val_loss: 0.5197 - val_acc: 0.7500\n",
            "Epoch 51/150\n",
            "15/15 [==============================] - 22s 1s/step - loss: 0.4861 - acc: 0.7767 - val_loss: 0.5961 - val_acc: 0.7200\n",
            "Epoch 52/150\n",
            "15/15 [==============================] - 22s 1s/step - loss: 0.4827 - acc: 0.7600 - val_loss: 0.5337 - val_acc: 0.7233\n",
            "Epoch 53/150\n",
            "15/15 [==============================] - 22s 1s/step - loss: 0.5008 - acc: 0.7467 - val_loss: 0.5420 - val_acc: 0.7100\n",
            "Epoch 54/150\n",
            "15/15 [==============================] - 22s 1s/step - loss: 0.4510 - acc: 0.7867 - val_loss: 0.5016 - val_acc: 0.7567\n",
            "Epoch 55/150\n",
            "15/15 [==============================] - 22s 1s/step - loss: 0.4542 - acc: 0.7733 - val_loss: 0.5533 - val_acc: 0.7333\n",
            "Epoch 56/150\n",
            "15/15 [==============================] - 22s 1s/step - loss: 0.4869 - acc: 0.7833 - val_loss: 0.5218 - val_acc: 0.7533\n",
            "Epoch 57/150\n",
            "15/15 [==============================] - 22s 1s/step - loss: 0.4696 - acc: 0.7900 - val_loss: 0.5738 - val_acc: 0.7267\n",
            "Epoch 58/150\n",
            "15/15 [==============================] - 22s 1s/step - loss: 0.3942 - acc: 0.8267 - val_loss: 0.5785 - val_acc: 0.7367\n",
            "Epoch 59/150\n",
            "15/15 [==============================] - 22s 1s/step - loss: 0.4730 - acc: 0.7800 - val_loss: 0.6096 - val_acc: 0.6567\n",
            "Epoch 60/150\n",
            "15/15 [==============================] - 22s 1s/step - loss: 0.4797 - acc: 0.7433 - val_loss: 0.5470 - val_acc: 0.7267\n",
            "Epoch 61/150\n",
            "15/15 [==============================] - 22s 1s/step - loss: 0.4592 - acc: 0.7700 - val_loss: 0.6058 - val_acc: 0.6800\n",
            "Epoch 62/150\n",
            "15/15 [==============================] - 22s 1s/step - loss: 0.4790 - acc: 0.7700 - val_loss: 0.4886 - val_acc: 0.7433\n",
            "Epoch 63/150\n",
            "15/15 [==============================] - 22s 1s/step - loss: 0.4268 - acc: 0.7967 - val_loss: 0.5332 - val_acc: 0.7333\n",
            "Epoch 64/150\n",
            "15/15 [==============================] - 22s 1s/step - loss: 0.3898 - acc: 0.8167 - val_loss: 0.6183 - val_acc: 0.7467\n",
            "Epoch 65/150\n",
            "15/15 [==============================] - 22s 1s/step - loss: 0.4181 - acc: 0.7967 - val_loss: 0.5535 - val_acc: 0.7200\n",
            "Epoch 66/150\n",
            "15/15 [==============================] - 22s 1s/step - loss: 0.3684 - acc: 0.8533 - val_loss: 0.5591 - val_acc: 0.7467\n",
            "Epoch 67/150\n",
            "15/15 [==============================] - 22s 1s/step - loss: 0.3821 - acc: 0.8333 - val_loss: 0.5598 - val_acc: 0.7333\n",
            "Epoch 68/150\n",
            "15/15 [==============================] - 22s 1s/step - loss: 0.3402 - acc: 0.8367 - val_loss: 0.6039 - val_acc: 0.7200\n",
            "Epoch 69/150\n",
            "15/15 [==============================] - 22s 1s/step - loss: 0.3559 - acc: 0.8400 - val_loss: 0.6341 - val_acc: 0.7167\n",
            "Epoch 70/150\n",
            "15/15 [==============================] - 22s 1s/step - loss: 0.4621 - acc: 0.7933 - val_loss: 0.5575 - val_acc: 0.7067\n",
            "Epoch 71/150\n",
            "15/15 [==============================] - 22s 1s/step - loss: 0.3703 - acc: 0.8300 - val_loss: 0.5805 - val_acc: 0.7167\n",
            "Epoch 72/150\n",
            "15/15 [==============================] - 22s 1s/step - loss: 0.3738 - acc: 0.8533 - val_loss: 0.6263 - val_acc: 0.7200\n",
            "3127.8750216960907\n"
          ]
        }
      ]
    },
    {
      "cell_type": "code",
      "metadata": {
        "colab": {
          "base_uri": "https://localhost:8080/"
        },
        "id": "iTQZDh9kACzc",
        "outputId": "e72f3f4f-5d75-4f2f-ec70-1556a8a0bcbc"
      },
      "source": [
        "test_dir = (\"/content/drive/Shareddrives/SreevaniAshima/test\")\n",
        "test_datagen = ImageDataGenerator(rescale=1. / 255)\n",
        "eval_generator = test_datagen.flow_from_directory(test_dir,\n",
        "                                                  target_size=(150,150),\n",
        "                                                  batch_size=20,\n",
        "                                                  shuffle=False,\n",
        "                                                  seed=42,\n",
        "                                                  color_mode='grayscale',\n",
        "                                                  class_mode=None)"
      ],
      "execution_count": null,
      "outputs": [
        {
          "output_type": "stream",
          "name": "stdout",
          "text": [
            "Found 437 images belonging to 1 classes.\n"
          ]
        }
      ]
    },
    {
      "cell_type": "code",
      "metadata": {
        "colab": {
          "base_uri": "https://localhost:8080/"
        },
        "id": "8rNSofGoArJb",
        "outputId": "e9f1f0e7-b4fb-4045-8b40-a9eeff1c2763"
      },
      "source": [
        "predict = model.predict_generator(eval_generator, steps=np.ceil(437/20))"
      ],
      "execution_count": null,
      "outputs": [
        {
          "output_type": "stream",
          "name": "stderr",
          "text": [
            "/usr/local/lib/python3.7/dist-packages/ipykernel_launcher.py:1: UserWarning: `Model.predict_generator` is deprecated and will be removed in a future version. Please use `Model.predict`, which supports generators.\n",
            "  \"\"\"Entry point for launching an IPython kernel.\n"
          ]
        }
      ]
    },
    {
      "cell_type": "code",
      "metadata": {
        "id": "yM1sccqavMYu"
      },
      "source": [
        "predict = model.predict(eval_generator, steps=np.ceil(437/20))"
      ],
      "execution_count": null,
      "outputs": []
    },
    {
      "cell_type": "code",
      "metadata": {
        "id": "OZIgMWAuwIoS"
      },
      "source": [
        "pre = []\n",
        "for p in predict:\n",
        "  if p>0.5:\n",
        "    pre.append(1)\n",
        "  elif p<0.5:\n",
        "    pre.append(0)\n",
        "    "
      ],
      "execution_count": null,
      "outputs": []
    },
    {
      "cell_type": "code",
      "metadata": {
        "id": "qWkdUQLijIZI"
      },
      "source": [
        "predict_df = pd.DataFrame(pre)"
      ],
      "execution_count": null,
      "outputs": []
    },
    {
      "cell_type": "code",
      "metadata": {
        "id": "nFudALOTjW6U"
      },
      "source": [
        "predict_df.to_csv('ans5.csv')"
      ],
      "execution_count": null,
      "outputs": []
    },
    {
      "cell_type": "markdown",
      "metadata": {
        "id": "LWl36usbzn8A"
      },
      "source": [
        "## Plotting the results"
      ]
    },
    {
      "cell_type": "code",
      "metadata": {
        "colab": {
          "base_uri": "https://localhost:8080/",
          "height": 545
        },
        "id": "xFjEYiqTaWj2",
        "outputId": "db40252d-2333-4686-fab8-dc566665eb47"
      },
      "source": [
        "import matplotlib.pyplot as plt\n",
        "\n",
        "# plot the results of the model\n",
        "acc = history.history['acc']\n",
        "val_acc = history.history['val_acc']\n",
        "loss = history.history['loss']\n",
        "val_loss = history.history['val_loss']\n",
        "\n",
        "epochs = range(len(acc))\n",
        "\n",
        "plt.plot(epochs, acc, 'bo', label='Training acc')\n",
        "plt.plot(epochs, val_acc, 'b', label='Validation acc')\n",
        "plt.title('Training and validation accuracy')\n",
        "plt.legend()\n",
        "\n",
        "plt.figure()\n",
        "\n",
        "plt.plot(epochs, loss, 'bo', label='Training loss')\n",
        "plt.plot(epochs, val_loss, 'b', label='Validation loss')\n",
        "plt.title('Training and validation loss')\n",
        "plt.legend()\n",
        "\n",
        "plt.show()"
      ],
      "execution_count": null,
      "outputs": [
        {
          "data": {
            "image/png": "[encoded data removed]",
            "text/plain": [
              "<Figure size 432x288 with 1 Axes>"
            ]
          },
          "metadata": {},
          "output_type": "display_data"
        },
        {
          "data": {
            "image/png": "[encoded data removed]",
            "text/plain": [
              "<Figure size 432x288 with 1 Axes>"
            ]
          },
          "metadata": {},
          "output_type": "display_data"
        }
      ]
    },
    {
      "cell_type": "markdown",
      "metadata": {
        "id": "jl0VD-tou6sK"
      },
      "source": [
        "# Model2 - CNN with Data Augmentation"
      ]
    },
    {
      "cell_type": "code",
      "metadata": {
        "id": "yexA1kdMu6MZ"
      },
      "source": [
        "datagen = ImageDataGenerator(\n",
        "    rescale=1./255,\n",
        "    rotation_range = 5,\n",
        "    shear_range=0.2,\n",
        "    zoom_range=0.4,\n",
        "    fill_mode = 'nearest',\n",
        "    samplewise_center=True, samplewise_std_normalization= True)"
      ],
      "execution_count": null,
      "outputs": []
    },
    {
      "cell_type": "code",
      "metadata": {
        "colab": {
          "base_uri": "https://localhost:8080/",
          "height": 1000
        },
        "id": "6EUmJhpLvOnk",
        "outputId": "1ab56191-20f3-4ae9-977a-fea3225e9f92"
      },
      "source": [
        "# This is module with image preprocessing utilities\n",
        "from keras.preprocessing import image\n",
        "from google.colab import files\n",
        "import matplotlib.pyplot as plt\n",
        "\n",
        "\n",
        "# We pick one image to \"augment\"\n",
        "# this was defined above\n",
        "img_path = image_dir + 'cardiomegaly/00000038_003.png'\n",
        "\n",
        "# Read the image and resize it\n",
        "img = image.load_img(img_path, target_size=(150, 150))\n",
        "\n",
        "# Convert it to a Numpy array with shape (150, 150, 3)\n",
        "x = image.img_to_array(img)\n",
        "\n",
        "# Reshape it to (1, 150, 150, 3)\n",
        "x = x.reshape((1,) + x.shape)\n",
        "\n",
        "# The .flow() command below generates batches of randomly transformed images.\n",
        "# It will loop indefinitely, so we need to `break` the loop at some point!\n",
        "i = 0\n",
        "for batch in datagen.flow(x, batch_size=1):\n",
        "    plt.figure(i)\n",
        "    imgplot = plt.imshow(image.array_to_img(batch[0]))\n",
        "    i += 1\n",
        "    if i % 4 == 0:\n",
        "        break\n",
        "\n",
        "plt.show()"
      ],
      "execution_count": null,
      "outputs": [
        {
          "output_type": "display_data",
          "data": {
            "image/png": "[encoded data removed]",
            "text/plain": [
              "<Figure size 432x288 with 1 Axes>"
            ]
          },
          "metadata": {
            "needs_background": "light"
          }
        },
        {
          "output_type": "display_data",
          "data": {
            "image/png": "[encoded data removed]",
            "text/plain": [
              "<Figure size 432x288 with 1 Axes>"
            ]
          },
          "metadata": {
            "needs_background": "light"
          }
        },
        {
          "output_type": "display_data",
          "data": {
            "image/png": "[encoded data removed]",
            "text/plain": [
              "<Figure size 432x288 with 1 Axes>"
            ]
          },
          "metadata": {
            "needs_background": "light"
          }
        },
        {
          "output_type": "display_data",
          "data": {
            "image/png": "[encoded data removed]",
            "text/plain": [
              "<Figure size 432x288 with 1 Axes>"
            ]
          },
          "metadata": {
            "needs_background": "light"
          }
        }
      ]
    },
    {
      "cell_type": "code",
      "metadata": {
        "id": "2tizk_CXxc6g"
      },
      "source": [
        "model = models.Sequential()\n",
        "model.add(layers.Conv2D(32, (3, 3), activation='relu',\n",
        "                        input_shape=(150, 150, 1)))\n",
        "model.add(layers.MaxPooling2D((2, 2)))\n",
        "model.add(layers.Conv2D(64, (3, 3), activation='relu'))\n",
        "model.add(layers.Conv2D(64, (3, 3), activation='relu'))\n",
        "model.add(layers.MaxPooling2D((2, 2)))\n",
        "model.add(layers.Conv2D(128, (3, 3), activation='relu'))\n",
        "model.add(layers.MaxPooling2D((2, 2)))\n",
        "model.add(layers.Conv2D(128, (3, 3), activation='relu'))\n",
        "model.add(layers.MaxPooling2D((2, 2)))\n",
        "model.add(layers.Conv2D(128, (3, 3), activation='relu'))\n",
        "model.add(layers.MaxPooling2D((2, 2)))\n",
        "model.add(layers.Flatten())\n",
        "model.add(layers.Dense(512, activation='relu'))\n",
        "model.add(layers.Dense(128, activation='relu'))\n",
        "model.add(layers.Dense(1, activation='sigmoid'))\n",
        "\n",
        "model.compile(loss='binary_crossentropy',\n",
        "              optimizer='Adam',\n",
        "              metrics=['acc'])\n"
      ],
      "execution_count": null,
      "outputs": []
    },
    {
      "cell_type": "code",
      "metadata": {
        "colab": {
          "base_uri": "https://localhost:8080/"
        },
        "id": "8Uv3ip4FRMXd",
        "outputId": "57620fc0-a742-4289-a73a-70aafc333411"
      },
      "source": [
        "model.summary()"
      ],
      "execution_count": null,
      "outputs": [
        {
          "output_type": "stream",
          "name": "stdout",
          "text": [
            "Model: \"sequential_1\"\n",
            "_________________________________________________________________\n",
            " Layer (type)                Output Shape              Param #   \n",
            "=================================================================\n",
            " conv2d_6 (Conv2D)           (None, 148, 148, 32)      320       \n",
            "                                                                 \n",
            " max_pooling2d_5 (MaxPooling  (None, 74, 74, 32)       0         \n",
            " 2D)                                                             \n",
            "                                                                 \n",
            " conv2d_7 (Conv2D)           (None, 72, 72, 64)        18496     \n",
            "                                                                 \n",
            " conv2d_8 (Conv2D)           (None, 70, 70, 64)        36928     \n",
            "                                                                 \n",
            " max_pooling2d_6 (MaxPooling  (None, 35, 35, 64)       0         \n",
            " 2D)                                                             \n",
            "                                                                 \n",
            " conv2d_9 (Conv2D)           (None, 33, 33, 128)       73856     \n",
            "                                                                 \n",
            " max_pooling2d_7 (MaxPooling  (None, 16, 16, 128)      0         \n",
            " 2D)                                                             \n",
            "                                                                 \n",
            " conv2d_10 (Conv2D)          (None, 14, 14, 128)       147584    \n",
            "                                                                 \n",
            " max_pooling2d_8 (MaxPooling  (None, 7, 7, 128)        0         \n",
            " 2D)                                                             \n",
            "                                                                 \n",
            " conv2d_11 (Conv2D)          (None, 5, 5, 128)         147584    \n",
            "                                                                 \n",
            " max_pooling2d_9 (MaxPooling  (None, 2, 2, 128)        0         \n",
            " 2D)                                                             \n",
            "                                                                 \n",
            " flatten_1 (Flatten)         (None, 512)               0         \n",
            "                                                                 \n",
            " dense_3 (Dense)             (None, 512)               262656    \n",
            "                                                                 \n",
            " dense_4 (Dense)             (None, 128)               65664     \n",
            "                                                                 \n",
            " dense_5 (Dense)             (None, 1)                 129       \n",
            "                                                                 \n",
            "=================================================================\n",
            "Total params: 753,217\n",
            "Trainable params: 753,217\n",
            "Non-trainable params: 0\n",
            "_________________________________________________________________\n"
          ]
        }
      ]
    },
    {
      "cell_type": "code",
      "metadata": {
        "colab": {
          "base_uri": "https://localhost:8080/"
        },
        "id": "P3M0ewV8yGKE",
        "outputId": "cae0c523-291b-4c87-df2d-7c2991ff86b8"
      },
      "source": [
        "train_datagen = ImageDataGenerator(\n",
        "    rescale=1./255,\n",
        "    rotation_range = 5,\n",
        "    shear_range=0.02,\n",
        "    zoom_range=0.2,\n",
        "    samplewise_center=True, samplewise_std_normalization= True)\n",
        "\n",
        "# Note that the validation data should not be augmented!\n",
        "# we simply scale it by the max value (255)\n",
        "test_datagen = ImageDataGenerator(rescale=1./255)\n",
        "\n",
        "train_generator = train_datagen.flow_from_directory(\n",
        "        # This is the target directory\n",
        "        image_dir,\n",
        "        # All images will be resized to 150x150\n",
        "        target_size=(150, 150),\n",
        "        batch_size=20,\n",
        "        color_mode='grayscale',\n",
        "        # Since we use binary_crossentropy loss, we need binary labels\n",
        "        class_mode='binary')\n",
        "\n",
        "validation_generator = test_datagen.flow_from_directory(\n",
        "        validation_dir,\n",
        "        target_size=(150, 150),\n",
        "        batch_size=20,\n",
        "        color_mode='grayscale',\n",
        "        class_mode='binary')\n",
        "\n",
        "history = model.fit_generator(\n",
        "      train_generator,\n",
        "      steps_per_epoch=50, \n",
        "      epochs=50,\n",
        "      validation_data=validation_generator,\n",
        "      validation_steps=15) "
      ],
      "execution_count": null,
      "outputs": [
        {
          "output_type": "stream",
          "name": "stdout",
          "text": [
            "Found 1400 images belonging to 2 classes.\n",
            "Found 350 images belonging to 2 classes.\n"
          ]
        },
        {
          "output_type": "stream",
          "name": "stderr",
          "text": [
            "/usr/local/lib/python3.7/dist-packages/ipykernel_launcher.py:34: UserWarning: `Model.fit_generator` is deprecated and will be removed in a future version. Please use `Model.fit`, which supports generators.\n"
          ]
        },
        {
          "output_type": "stream",
          "name": "stdout",
          "text": [
            "Epoch 1/50\n",
            "50/50 [==============================] - 374s 7s/step - loss: 0.6945 - acc: 0.5060 - val_loss: 0.6930 - val_acc: 0.5600\n",
            "Epoch 2/50\n",
            "50/50 [==============================] - 118s 2s/step - loss: 0.6654 - acc: 0.6050 - val_loss: 0.6923 - val_acc: 0.4867\n",
            "Epoch 3/50\n",
            "50/50 [==============================] - 90s 2s/step - loss: 0.6405 - acc: 0.6450 - val_loss: 0.6949 - val_acc: 0.5000\n",
            "Epoch 4/50\n",
            "50/50 [==============================] - 87s 2s/step - loss: 0.6084 - acc: 0.6690 - val_loss: 0.7425 - val_acc: 0.4800\n",
            "Epoch 5/50\n",
            "50/50 [==============================] - 86s 2s/step - loss: 0.5820 - acc: 0.7120 - val_loss: 0.6862 - val_acc: 0.6167\n",
            "Epoch 6/50\n",
            "50/50 [==============================] - 86s 2s/step - loss: 0.5598 - acc: 0.7100 - val_loss: 0.6802 - val_acc: 0.5200\n",
            "Epoch 7/50\n",
            "50/50 [==============================] - 86s 2s/step - loss: 0.5461 - acc: 0.7360 - val_loss: 0.6831 - val_acc: 0.5733\n",
            "Epoch 8/50\n",
            "50/50 [==============================] - 87s 2s/step - loss: 0.5325 - acc: 0.7330 - val_loss: 0.7189 - val_acc: 0.5100\n",
            "Epoch 9/50\n",
            "50/50 [==============================] - 87s 2s/step - loss: 0.5078 - acc: 0.7480 - val_loss: 0.6892 - val_acc: 0.5200\n",
            "Epoch 10/50\n",
            "50/50 [==============================] - 87s 2s/step - loss: 0.4772 - acc: 0.7720 - val_loss: 0.6816 - val_acc: 0.5333\n",
            "Epoch 11/50\n",
            "50/50 [==============================] - 88s 2s/step - loss: 0.4599 - acc: 0.7820 - val_loss: 0.6923 - val_acc: 0.5067\n",
            "Epoch 12/50\n",
            "50/50 [==============================] - 87s 2s/step - loss: 0.4634 - acc: 0.7930 - val_loss: 0.6886 - val_acc: 0.5133\n",
            "Epoch 13/50\n",
            "50/50 [==============================] - 86s 2s/step - loss: 0.4594 - acc: 0.7900 - val_loss: 0.6933 - val_acc: 0.5100\n",
            "Epoch 14/50\n",
            "50/50 [==============================] - 86s 2s/step - loss: 0.4324 - acc: 0.8090 - val_loss: 0.6880 - val_acc: 0.5900\n",
            "Epoch 15/50\n",
            "50/50 [==============================] - 86s 2s/step - loss: 0.4343 - acc: 0.8030 - val_loss: 0.7107 - val_acc: 0.5033\n",
            "Epoch 16/50\n",
            "50/50 [==============================] - 87s 2s/step - loss: 0.4420 - acc: 0.8050 - val_loss: 0.6768 - val_acc: 0.5767\n",
            "Epoch 17/50\n",
            "50/50 [==============================] - 86s 2s/step - loss: 0.4091 - acc: 0.8100 - val_loss: 0.6818 - val_acc: 0.5333\n",
            "Epoch 18/50\n",
            "50/50 [==============================] - 86s 2s/step - loss: 0.3927 - acc: 0.8170 - val_loss: 0.6777 - val_acc: 0.5367\n",
            "Epoch 19/50\n",
            "50/50 [==============================] - 86s 2s/step - loss: 0.3980 - acc: 0.8060 - val_loss: 0.7726 - val_acc: 0.5033\n",
            "Epoch 20/50\n",
            "50/50 [==============================] - 86s 2s/step - loss: 0.3890 - acc: 0.8210 - val_loss: 0.6964 - val_acc: 0.5133\n",
            "Epoch 21/50\n",
            "50/50 [==============================] - 86s 2s/step - loss: 0.3976 - acc: 0.8200 - val_loss: 0.6863 - val_acc: 0.5267\n",
            "Epoch 22/50\n",
            "50/50 [==============================] - 86s 2s/step - loss: 0.3890 - acc: 0.8270 - val_loss: 0.6994 - val_acc: 0.5200\n",
            "Epoch 23/50\n",
            "50/50 [==============================] - 86s 2s/step - loss: 0.3693 - acc: 0.8370 - val_loss: 0.6785 - val_acc: 0.5533\n",
            "Epoch 24/50\n",
            "50/50 [==============================] - 86s 2s/step - loss: 0.3772 - acc: 0.8330 - val_loss: 0.7152 - val_acc: 0.5233\n",
            "Epoch 25/50\n",
            "50/50 [==============================] - 86s 2s/step - loss: 0.3440 - acc: 0.8570 - val_loss: 0.6739 - val_acc: 0.5700\n",
            "Epoch 26/50\n",
            "50/50 [==============================] - 86s 2s/step - loss: 0.3527 - acc: 0.8640 - val_loss: 0.7343 - val_acc: 0.5200\n",
            "Epoch 27/50\n",
            "50/50 [==============================] - 86s 2s/step - loss: 0.3700 - acc: 0.8400 - val_loss: 0.7459 - val_acc: 0.5167\n",
            "Epoch 28/50\n",
            "50/50 [==============================] - 86s 2s/step - loss: 0.3359 - acc: 0.8640 - val_loss: 0.7417 - val_acc: 0.5067\n",
            "Epoch 29/50\n",
            "50/50 [==============================] - 86s 2s/step - loss: 0.3468 - acc: 0.8600 - val_loss: 0.7203 - val_acc: 0.5000\n",
            "Epoch 30/50\n",
            "50/50 [==============================] - 86s 2s/step - loss: 0.3469 - acc: 0.8470 - val_loss: 0.7124 - val_acc: 0.5400\n",
            "Epoch 31/50\n",
            "50/50 [==============================] - 86s 2s/step - loss: 0.3067 - acc: 0.8800 - val_loss: 0.6918 - val_acc: 0.5633\n",
            "Epoch 32/50\n",
            "50/50 [==============================] - 87s 2s/step - loss: 0.3388 - acc: 0.8500 - val_loss: 0.7774 - val_acc: 0.5267\n",
            "Epoch 33/50\n",
            "50/50 [==============================] - 86s 2s/step - loss: 0.3171 - acc: 0.8580 - val_loss: 0.7871 - val_acc: 0.5133\n",
            "Epoch 34/50\n",
            "50/50 [==============================] - 87s 2s/step - loss: 0.3152 - acc: 0.8600 - val_loss: 0.7240 - val_acc: 0.5267\n",
            "Epoch 35/50\n",
            "50/50 [==============================] - 86s 2s/step - loss: 0.3097 - acc: 0.8670 - val_loss: 0.8182 - val_acc: 0.5000\n",
            "Epoch 36/50\n",
            "50/50 [==============================] - 87s 2s/step - loss: 0.3218 - acc: 0.8480 - val_loss: 0.7872 - val_acc: 0.5500\n",
            "Epoch 37/50\n",
            "50/50 [==============================] - 87s 2s/step - loss: 0.2846 - acc: 0.8800 - val_loss: 1.0714 - val_acc: 0.4867\n",
            "Epoch 38/50\n",
            "50/50 [==============================] - 86s 2s/step - loss: 0.3068 - acc: 0.8740 - val_loss: 0.6930 - val_acc: 0.5567\n",
            "Epoch 39/50\n",
            "50/50 [==============================] - 86s 2s/step - loss: 0.2842 - acc: 0.8720 - val_loss: 0.8296 - val_acc: 0.5200\n",
            "Epoch 40/50\n",
            "50/50 [==============================] - 87s 2s/step - loss: 0.2759 - acc: 0.8930 - val_loss: 0.8081 - val_acc: 0.5300\n",
            "Epoch 41/50\n",
            "50/50 [==============================] - 86s 2s/step - loss: 0.2982 - acc: 0.8750 - val_loss: 0.7776 - val_acc: 0.5267\n",
            "Epoch 42/50\n",
            "50/50 [==============================] - 86s 2s/step - loss: 0.3228 - acc: 0.8620 - val_loss: 0.8128 - val_acc: 0.5133\n",
            "Epoch 43/50\n",
            "50/50 [==============================] - 86s 2s/step - loss: 0.2777 - acc: 0.8940 - val_loss: 0.9077 - val_acc: 0.5367\n",
            "Epoch 44/50\n",
            "50/50 [==============================] - 86s 2s/step - loss: 0.2368 - acc: 0.9030 - val_loss: 0.9512 - val_acc: 0.5200\n",
            "Epoch 45/50\n",
            "50/50 [==============================] - 87s 2s/step - loss: 0.2645 - acc: 0.8800 - val_loss: 0.8072 - val_acc: 0.5233\n",
            "Epoch 46/50\n",
            "50/50 [==============================] - 86s 2s/step - loss: 0.2645 - acc: 0.8790 - val_loss: 0.7914 - val_acc: 0.5233\n",
            "Epoch 47/50\n",
            "50/50 [==============================] - 86s 2s/step - loss: 0.2684 - acc: 0.8830 - val_loss: 0.8460 - val_acc: 0.5367\n",
            "Epoch 48/50\n",
            "50/50 [==============================] - 86s 2s/step - loss: 0.2542 - acc: 0.8960 - val_loss: 0.8499 - val_acc: 0.5167\n",
            "Epoch 49/50\n",
            "50/50 [==============================] - 86s 2s/step - loss: 0.2625 - acc: 0.8920 - val_loss: 0.7922 - val_acc: 0.5433\n",
            "Epoch 50/50\n",
            "50/50 [==============================] - 86s 2s/step - loss: 0.2522 - acc: 0.8930 - val_loss: 0.9018 - val_acc: 0.5067\n"
          ]
        }
      ]
    },
    {
      "cell_type": "code",
      "metadata": {
        "colab": {
          "base_uri": "https://localhost:8080/"
        },
        "id": "sSCMrTNt4oF7",
        "outputId": "249f75e9-9f79-430b-8f91-e8e2adebb352"
      },
      "source": [
        "test_dir = (\"/content/drive/Shareddrives/SreevaniAshima/test\")\n",
        "test_datagen = ImageDataGenerator(rescale=1. / 255)\n",
        "eval_generator = test_datagen.flow_from_directory(test_dir,\n",
        "                                                  target_size=(150,150),\n",
        "                                                  batch_size=20,\n",
        "                                                  shuffle=False,\n",
        "                                                  seed=42,\n",
        "                                                  color_mode='grayscale',\n",
        "                                                  class_mode=None)"
      ],
      "execution_count": null,
      "outputs": [
        {
          "output_type": "stream",
          "name": "stdout",
          "text": [
            "Found 437 images belonging to 1 classes.\n"
          ]
        }
      ]
    },
    {
      "cell_type": "code",
      "metadata": {
        "id": "hIF9BJoy4oF9"
      },
      "source": [
        "predict = model.predict(eval_generator, steps=np.ceil(437/20))"
      ],
      "execution_count": null,
      "outputs": []
    },
    {
      "cell_type": "code",
      "metadata": {
        "id": "imFw72hF4oF9"
      },
      "source": [
        "pre = []\n",
        "for p in predict:\n",
        "  if p>0.5:\n",
        "    pre.append(1)\n",
        "  elif p<0.5:\n",
        "    pre.append(0)\n",
        "    "
      ],
      "execution_count": null,
      "outputs": []
    },
    {
      "cell_type": "code",
      "metadata": {
        "id": "WnyMmFMV4oF-"
      },
      "source": [
        "predict_df = pd.DataFrame(pre)"
      ],
      "execution_count": null,
      "outputs": []
    },
    {
      "cell_type": "code",
      "metadata": {
        "id": "xJBZA8as4oF_"
      },
      "source": [
        "predict_df.to_csv(\"/content/drive/Shareddrives/SreevaniAshima/model2.csv\")"
      ],
      "execution_count": null,
      "outputs": []
    },
    {
      "cell_type": "markdown",
      "metadata": {
        "id": "kw3IRPZ6BRt7"
      },
      "source": [
        "# Model3 - Trial Model"
      ]
    },
    {
      "cell_type": "code",
      "metadata": {
        "id": "1FIKJGxBBRFf"
      },
      "source": [
        "model = models.Sequential()\n",
        "model.add(layers.Conv2D(32, (3, 3), activation='relu',\n",
        "                        input_shape=(150, 150, 1)))\n",
        "model.add(layers.MaxPooling2D((2, 2)))\n",
        "model.add(layers.Conv2D(64, (3, 3), activation='relu'))\n",
        "model.add(layers.Conv2D(64, (3, 3), activation='relu'))\n",
        "model.add(layers.MaxPooling2D((2, 2)))\n",
        "model.add(layers.Conv2D(128, (3, 3), activation='relu'))\n",
        "model.add(layers.MaxPooling2D((2, 2)))\n",
        "model.add(layers.Conv2D(128, (3, 3), activation='relu'))\n",
        "model.add(layers.MaxPooling2D((2, 2)))\n",
        "model.add(layers.Conv2D(128, (3, 3), activation='relu'))\n",
        "model.add(layers.MaxPooling2D((2, 2)))\n",
        "model.add(layers.Flatten())\n",
        "model.add(layers.Dense(512, activation='relu'))\n",
        "model.add(layers.Dense(128, activation='relu'))\n",
        "model.add(layers.Dense(64, activation='relu'))\n",
        "model.add(layers.Dense(1, activation='sigmoid'))\n",
        "\n",
        "model.compile(loss='binary_crossentropy',\n",
        "              optimizer='Adam',\n",
        "              metrics=['acc'])\n"
      ],
      "execution_count": null,
      "outputs": []
    },
    {
      "cell_type": "code",
      "metadata": {
        "id": "HHZsib77IeeP",
        "colab": {
          "base_uri": "https://localhost:8080/"
        },
        "outputId": "f96dec90-0e60-47cd-d70d-449ad600aa93"
      },
      "source": [
        "model.summary()"
      ],
      "execution_count": null,
      "outputs": [
        {
          "output_type": "stream",
          "name": "stdout",
          "text": [
            "Model: \"sequential\"\n",
            "_________________________________________________________________\n",
            " Layer (type)                Output Shape              Param #   \n",
            "=================================================================\n",
            " conv2d (Conv2D)             (None, 148, 148, 32)      320       \n",
            "                                                                 \n",
            " max_pooling2d (MaxPooling2D  (None, 74, 74, 32)       0         \n",
            " )                                                               \n",
            "                                                                 \n",
            " conv2d_1 (Conv2D)           (None, 72, 72, 64)        18496     \n",
            "                                                                 \n",
            " conv2d_2 (Conv2D)           (None, 70, 70, 64)        36928     \n",
            "                                                                 \n",
            " max_pooling2d_1 (MaxPooling  (None, 35, 35, 64)       0         \n",
            " 2D)                                                             \n",
            "                                                                 \n",
            " conv2d_3 (Conv2D)           (None, 33, 33, 128)       73856     \n",
            "                                                                 \n",
            " max_pooling2d_2 (MaxPooling  (None, 16, 16, 128)      0         \n",
            " 2D)                                                             \n",
            "                                                                 \n",
            " conv2d_4 (Conv2D)           (None, 14, 14, 128)       147584    \n",
            "                                                                 \n",
            " max_pooling2d_3 (MaxPooling  (None, 7, 7, 128)        0         \n",
            " 2D)                                                             \n",
            "                                                                 \n",
            " conv2d_5 (Conv2D)           (None, 5, 5, 128)         147584    \n",
            "                                                                 \n",
            " max_pooling2d_4 (MaxPooling  (None, 2, 2, 128)        0         \n",
            " 2D)                                                             \n",
            "                                                                 \n",
            " flatten (Flatten)           (None, 512)               0         \n",
            "                                                                 \n",
            " dense (Dense)               (None, 512)               262656    \n",
            "                                                                 \n",
            " dense_1 (Dense)             (None, 128)               65664     \n",
            "                                                                 \n",
            " dense_2 (Dense)             (None, 64)                8256      \n",
            "                                                                 \n",
            " dense_3 (Dense)             (None, 1)                 65        \n",
            "                                                                 \n",
            "=================================================================\n",
            "Total params: 761,409\n",
            "Trainable params: 761,409\n",
            "Non-trainable params: 0\n",
            "_________________________________________________________________\n"
          ]
        }
      ]
    },
    {
      "cell_type": "code",
      "metadata": {
        "id": "9Pmtrn2nCKov",
        "colab": {
          "base_uri": "https://localhost:8080/"
        },
        "outputId": "756c5b66-61f6-4b8d-8ee6-365d4cf53c24"
      },
      "source": [
        "train_datagen = ImageDataGenerator(\n",
        "    rescale=1./255,\n",
        "    rotation_range = 5,\n",
        "    shear_range=0.02,\n",
        "    zoom_range=0.4,\n",
        "    horizontal_flip = True,\n",
        "    vertical_flip = False,\n",
        "    samplewise_center=True, samplewise_std_normalization= True)\n",
        "\n",
        "# Note that the validation data should not be augmented!\n",
        "# we simply scale it by the max value (255)\n",
        "test_datagen = ImageDataGenerator(rescale=1./255)\n",
        "\n",
        "train_generator = train_datagen.flow_from_directory(\n",
        "        # This is the target directory\n",
        "        image_dir,\n",
        "        # All images will be resized to 150x150\n",
        "        target_size=(150, 150),\n",
        "        batch_size=20,\n",
        "        color_mode='grayscale',\n",
        "        # Since we use binary_crossentropy loss, we need binary labels\n",
        "        class_mode='binary')\n",
        "\n",
        "validation_generator = test_datagen.flow_from_directory(\n",
        "        validation_dir,\n",
        "        target_size=(150, 150),\n",
        "        batch_size=20,\n",
        "        color_mode='grayscale',\n",
        "        class_mode='binary')\n",
        "\n",
        "history = model.fit_generator(\n",
        "      train_generator,\n",
        "      steps_per_epoch=50, # 2000/50 = 100 (so we are grabbing 100 batches of size 32)\n",
        "      epochs=50,\n",
        "      validation_data=validation_generator,\n",
        "      validation_steps=15) # so we are grabbing 50 batches of size 32)"
      ],
      "execution_count": null,
      "outputs": [
        {
          "metadata": {
            "tags": null
          },
          "name": "stdout",
          "output_type": "stream",
          "text": [
            "Found 1400 images belonging to 2 classes.\n",
            "Found 350 images belonging to 2 classes.\n"
          ]
        },
        {
          "metadata": {
            "tags": null
          },
          "name": "stderr",
          "output_type": "stream",
          "text": [
            "/usr/local/lib/python3.7/dist-packages/ipykernel_launcher.py:36: UserWarning: `Model.fit_generator` is deprecated and will be removed in a future version. Please use `Model.fit`, which supports generators.\n"
          ]
        },
        {
          "output_type": "stream",
          "name": "stdout",
          "text": [
            "Epoch 1/50\n",
            "50/50 [==============================] - 1052s 21s/step - loss: 0.6948 - acc: 0.5110 - val_loss: 0.6930 - val_acc: 0.5067\n",
            "Epoch 2/50\n",
            "50/50 [==============================] - 270s 5s/step - loss: 0.6910 - acc: 0.5440 - val_loss: 0.6903 - val_acc: 0.5200\n",
            "Epoch 3/50\n",
            "50/50 [==============================] - 144s 3s/step - loss: 0.6773 - acc: 0.5890 - val_loss: 0.7004 - val_acc: 0.4967\n",
            "Epoch 4/50\n",
            "50/50 [==============================] - 92s 2s/step - loss: 0.6669 - acc: 0.5990 - val_loss: 0.6829 - val_acc: 0.5633\n",
            "Epoch 5/50\n",
            "50/50 [==============================] - 87s 2s/step - loss: 0.6220 - acc: 0.6600 - val_loss: 0.6725 - val_acc: 0.5700\n",
            "Epoch 6/50\n",
            "50/50 [==============================] - 87s 2s/step - loss: 0.6658 - acc: 0.5990 - val_loss: 0.6836 - val_acc: 0.5167\n",
            "Epoch 7/50\n",
            "50/50 [==============================] - 87s 2s/step - loss: 0.6282 - acc: 0.6600 - val_loss: 0.6786 - val_acc: 0.5367\n",
            "Epoch 8/50\n",
            "50/50 [==============================] - 87s 2s/step - loss: 0.6023 - acc: 0.6890 - val_loss: 0.6848 - val_acc: 0.5300\n",
            "Epoch 9/50\n",
            "50/50 [==============================] - 87s 2s/step - loss: 0.6018 - acc: 0.6750 - val_loss: 0.6695 - val_acc: 0.6167\n",
            "Epoch 10/50\n",
            "50/50 [==============================] - 87s 2s/step - loss: 0.6138 - acc: 0.6710 - val_loss: 0.7266 - val_acc: 0.5100\n",
            "Epoch 11/50\n",
            "50/50 [==============================] - 87s 2s/step - loss: 0.6306 - acc: 0.6530 - val_loss: 0.6697 - val_acc: 0.6067\n",
            "Epoch 12/50\n",
            "50/50 [==============================] - 86s 2s/step - loss: 0.5822 - acc: 0.7010 - val_loss: 0.6840 - val_acc: 0.5400\n",
            "Epoch 13/50\n",
            "50/50 [==============================] - 86s 2s/step - loss: 0.5872 - acc: 0.6900 - val_loss: 0.6648 - val_acc: 0.5700\n",
            "Epoch 14/50\n",
            "50/50 [==============================] - 86s 2s/step - loss: 0.5847 - acc: 0.6940 - val_loss: 0.6695 - val_acc: 0.6267\n",
            "Epoch 15/50\n",
            "50/50 [==============================] - 87s 2s/step - loss: 0.6081 - acc: 0.6710 - val_loss: 0.6727 - val_acc: 0.6100\n",
            "Epoch 16/50\n",
            "50/50 [==============================] - 88s 2s/step - loss: 0.5802 - acc: 0.7030 - val_loss: 0.6529 - val_acc: 0.6567\n",
            "Epoch 17/50\n",
            "50/50 [==============================] - 87s 2s/step - loss: 0.5613 - acc: 0.7190 - val_loss: 0.6523 - val_acc: 0.6267\n",
            "Epoch 18/50\n",
            "50/50 [==============================] - 86s 2s/step - loss: 0.5954 - acc: 0.6830 - val_loss: 0.6708 - val_acc: 0.6033\n",
            "Epoch 19/50\n",
            "50/50 [==============================] - 86s 2s/step - loss: 0.5537 - acc: 0.7300 - val_loss: 0.6748 - val_acc: 0.5233\n",
            "Epoch 20/50\n",
            "50/50 [==============================] - 87s 2s/step - loss: 0.5717 - acc: 0.7100 - val_loss: 0.6684 - val_acc: 0.5700\n",
            "Epoch 21/50\n",
            "50/50 [==============================] - 86s 2s/step - loss: 0.5854 - acc: 0.7030 - val_loss: 0.6567 - val_acc: 0.6200\n",
            "Epoch 22/50\n",
            "50/50 [==============================] - 87s 2s/step - loss: 0.5556 - acc: 0.7150 - val_loss: 0.6662 - val_acc: 0.6367\n",
            "Epoch 23/50\n",
            "50/50 [==============================] - 87s 2s/step - loss: 0.5541 - acc: 0.7190 - val_loss: 0.6675 - val_acc: 0.5833\n",
            "Epoch 24/50\n",
            "50/50 [==============================] - 87s 2s/step - loss: 0.5766 - acc: 0.7090 - val_loss: 0.6792 - val_acc: 0.5500\n",
            "Epoch 25/50\n",
            "50/50 [==============================] - 87s 2s/step - loss: 0.5515 - acc: 0.7160 - val_loss: 0.6703 - val_acc: 0.6500\n",
            "Epoch 26/50\n",
            "50/50 [==============================] - 87s 2s/step - loss: 0.5603 - acc: 0.7220 - val_loss: 0.6910 - val_acc: 0.5100\n",
            "Epoch 27/50\n",
            "50/50 [==============================] - 87s 2s/step - loss: 0.5357 - acc: 0.7180 - val_loss: 0.6682 - val_acc: 0.6167\n",
            "Epoch 28/50\n",
            "50/50 [==============================] - 90s 2s/step - loss: 0.5396 - acc: 0.7300 - val_loss: 0.6916 - val_acc: 0.5067\n",
            "Epoch 29/50\n",
            "50/50 [==============================] - 88s 2s/step - loss: 0.5246 - acc: 0.7460 - val_loss: 0.6899 - val_acc: 0.5100\n",
            "Epoch 30/50\n",
            "50/50 [==============================] - 88s 2s/step - loss: 0.5462 - acc: 0.7250 - val_loss: 0.6822 - val_acc: 0.5433\n",
            "Epoch 31/50\n",
            "50/50 [==============================] - 88s 2s/step - loss: 0.5306 - acc: 0.7400 - val_loss: 0.6915 - val_acc: 0.5033\n",
            "Epoch 32/50\n",
            "50/50 [==============================] - 92s 2s/step - loss: 0.5365 - acc: 0.7300 - val_loss: 0.6848 - val_acc: 0.5967\n",
            "Epoch 33/50\n",
            "50/50 [==============================] - 91s 2s/step - loss: 0.5528 - acc: 0.7110 - val_loss: 0.6775 - val_acc: 0.6533\n",
            "Epoch 34/50\n",
            "50/50 [==============================] - 88s 2s/step - loss: 0.5415 - acc: 0.7180 - val_loss: 0.6755 - val_acc: 0.6133\n",
            "Epoch 35/50\n",
            "50/50 [==============================] - 88s 2s/step - loss: 0.5065 - acc: 0.7360 - val_loss: 0.6750 - val_acc: 0.6333\n",
            "Epoch 36/50\n",
            "50/50 [==============================] - 88s 2s/step - loss: 0.5373 - acc: 0.7370 - val_loss: 0.6728 - val_acc: 0.6267\n",
            "Epoch 37/50\n",
            "50/50 [==============================] - 89s 2s/step - loss: 0.5227 - acc: 0.7340 - val_loss: 0.6809 - val_acc: 0.6667\n",
            "Epoch 38/50\n",
            "50/50 [==============================] - 88s 2s/step - loss: 0.5160 - acc: 0.7400 - val_loss: 0.6820 - val_acc: 0.6300\n",
            "Epoch 39/50\n",
            "50/50 [==============================] - 88s 2s/step - loss: 0.5019 - acc: 0.7600 - val_loss: 0.6613 - val_acc: 0.6067\n",
            "Epoch 40/50\n",
            "50/50 [==============================] - 87s 2s/step - loss: 0.5236 - acc: 0.7600 - val_loss: 0.6834 - val_acc: 0.5133\n",
            "Epoch 41/50\n",
            "50/50 [==============================] - 86s 2s/step - loss: 0.5120 - acc: 0.7540 - val_loss: 0.6708 - val_acc: 0.6100\n",
            "Epoch 42/50\n",
            "50/50 [==============================] - 86s 2s/step - loss: 0.4955 - acc: 0.7630 - val_loss: 0.6789 - val_acc: 0.5300\n",
            "Epoch 43/50\n",
            "50/50 [==============================] - 86s 2s/step - loss: 0.5250 - acc: 0.7520 - val_loss: 0.6825 - val_acc: 0.5200\n",
            "Epoch 44/50\n",
            "50/50 [==============================] - 87s 2s/step - loss: 0.4979 - acc: 0.7670 - val_loss: 0.6786 - val_acc: 0.5433\n",
            "Epoch 45/50\n",
            "50/50 [==============================] - 87s 2s/step - loss: 0.5037 - acc: 0.7590 - val_loss: 0.6880 - val_acc: 0.5033\n",
            "Epoch 46/50\n",
            "50/50 [==============================] - 86s 2s/step - loss: 0.4958 - acc: 0.7730 - val_loss: 0.6648 - val_acc: 0.6467\n",
            "Epoch 47/50\n",
            "50/50 [==============================] - 87s 2s/step - loss: 0.4779 - acc: 0.7800 - val_loss: 0.6739 - val_acc: 0.5900\n",
            "Epoch 48/50\n",
            "50/50 [==============================] - 87s 2s/step - loss: 0.5020 - acc: 0.7610 - val_loss: 0.6880 - val_acc: 0.5033\n",
            "Epoch 49/50\n",
            "50/50 [==============================] - 87s 2s/step - loss: 0.4695 - acc: 0.7820 - val_loss: 0.6702 - val_acc: 0.5867\n",
            "Epoch 50/50\n",
            "50/50 [==============================] - 87s 2s/step - loss: 0.4851 - acc: 0.7720 - val_loss: 0.6784 - val_acc: 0.5900\n"
          ]
        }
      ]
    },
    {
      "cell_type": "code",
      "metadata": {
        "id": "muk-mAv4B6lr"
      },
      "source": [
        ""
      ],
      "execution_count": null,
      "outputs": []
    },
    {
      "cell_type": "code",
      "metadata": {
        "colab": {
          "base_uri": "https://localhost:8080/"
        },
        "id": "Lwe02vZfTbnR",
        "outputId": "9bb8de6b-4362-412c-a2e7-bbf125896e6c"
      },
      "source": [
        "test_dir = (\"/content/drive/Shareddrives/SreevaniAshima/test\")\n",
        "test_datagen = ImageDataGenerator(rescale=1. / 255)\n",
        "eval_generator = test_datagen.flow_from_directory(test_dir,\n",
        "                                                  target_size=(150,150),\n",
        "                                                  batch_size=20,\n",
        "                                                  shuffle=False,\n",
        "                                                  seed=42,\n",
        "                                                  color_mode='grayscale',\n",
        "                                                  class_mode=None)"
      ],
      "execution_count": null,
      "outputs": [
        {
          "output_type": "stream",
          "name": "stdout",
          "text": [
            "Found 437 images belonging to 1 classes.\n"
          ]
        }
      ]
    },
    {
      "cell_type": "code",
      "metadata": {
        "id": "9HgiDORnTbnS"
      },
      "source": [
        "#predict = model.predict_generator(eval_generator, steps=np.ceil(437/20))"
      ],
      "execution_count": null,
      "outputs": []
    },
    {
      "cell_type": "code",
      "metadata": {
        "id": "1PukNabKTbnS"
      },
      "source": [
        "predict = model.predict(eval_generator, steps=np.ceil(437/20))"
      ],
      "execution_count": null,
      "outputs": []
    },
    {
      "cell_type": "code",
      "metadata": {
        "colab": {
          "base_uri": "https://localhost:8080/"
        },
        "id": "wD-LySSkTbnS",
        "outputId": "b7701b37-bfbc-444e-db6b-8e109fdc868b"
      },
      "source": [
        "min(predict)"
      ],
      "execution_count": null,
      "outputs": [
        {
          "output_type": "execute_result",
          "data": {
            "text/plain": [
              "array([0.40303454], dtype=float32)"
            ]
          },
          "metadata": {},
          "execution_count": 14
        }
      ]
    },
    {
      "cell_type": "code",
      "metadata": {
        "id": "jW2nafiRTbnT"
      },
      "source": [
        "pre = []\n",
        "for p in predict:\n",
        "  if p>0.5:\n",
        "    pre.append(1)\n",
        "  elif p<0.5:\n",
        "    pre.append(0)\n",
        "    "
      ],
      "execution_count": null,
      "outputs": []
    },
    {
      "cell_type": "code",
      "metadata": {
        "id": "E_HO1Gg6TbnT"
      },
      "source": [
        "predict_df = pd.DataFrame(pre)"
      ],
      "execution_count": null,
      "outputs": []
    },
    {
      "cell_type": "code",
      "metadata": {
        "id": "Xd1umzkATbnT"
      },
      "source": [
        "predict_df.to_csv(\"/content/drive/Shareddrives/SreevaniAshima/model2_3.csv\")"
      ],
      "execution_count": null,
      "outputs": []
    }
  ]
}